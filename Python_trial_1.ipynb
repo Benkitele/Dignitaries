{
  "nbformat": 4,
  "nbformat_minor": 0,
  "metadata": {
    "colab": {
      "provenance": [],
      "authorship_tag": "ABX9TyPSGfqkXJB17GSNHikSG3tL",
      "include_colab_link": true
    },
    "kernelspec": {
      "name": "python3",
      "display_name": "Python 3"
    },
    "language_info": {
      "name": "python"
    }
  },
  "cells": [
    {
      "cell_type": "markdown",
      "metadata": {
        "id": "view-in-github",
        "colab_type": "text"
      },
      "source": [
        "<a href=\"https://colab.research.google.com/github/Benkitele/Dignitaries/blob/main/Python_trial_1.ipynb\" target=\"_parent\"><img src=\"https://colab.research.google.com/assets/colab-badge.svg\" alt=\"Open In Colab\"/></a>"
      ]
    },
    {
      "cell_type": "code",
      "execution_count": 5,
      "metadata": {
        "colab": {
          "base_uri": "https://localhost:8080/"
        },
        "id": "609Oo1mnaIEn",
        "outputId": "ad493364-bf66-4766-9e8c-d130b23f5d1f"
      },
      "outputs": [
        {
          "output_type": "stream",
          "name": "stdout",
          "text": [
            "Welcome to the world of programming\n"
          ]
        }
      ],
      "source": [
        "print('Welcome to the world of programming')"
      ]
    },
    {
      "cell_type": "markdown",
      "source": [],
      "metadata": {
        "id": "ZCJ5X9iFdhWi"
      }
    },
    {
      "cell_type": "markdown",
      "source": [
        "This is my first ever line in Google colaboratory\n",
        "#I can make it in programming!\n",
        "##Cause nobody was born skilled!\n",
        "###You must learn to acquire it!"
      ],
      "metadata": {
        "id": "r7Vhrs0Wc0cy"
      }
    }
  ]
}